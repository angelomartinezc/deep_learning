{
 "cells": [
  {
   "cell_type": "markdown",
   "id": "db170864",
   "metadata": {},
   "source": [
    "# Artificial Neural Networks - Forward Propagation"
   ]
  },
  {
   "attachments": {},
   "cell_type": "markdown",
   "id": "dab00b0d",
   "metadata": {},
   "source": [
    "• Artificial neural network (ANN) is a computational model that consists of several processing elements that receive inputs and deliver outputs based on their predefined activation functions. <br>\n",
    "• ANN is modeling technique inspired by the human nervous system that allows learning by example from representative data that describes a physical phenomenon or a decision process. <br>\n",
    "• ANNs consist of a layer of input nodes and layer of output nodes, connected by one or more layers of hidden nodes. \n"
   ]
  },
  {
   "cell_type": "markdown",
   "id": "1ce1b6d1",
   "metadata": {},
   "source": [
    "Here is a neural network that takes two inputs, has one hidden layer with two nodes, and an output layer with one node. Let's start by randomly initializing the weights and the biases in the network. We have 6 weights and 3 biases, one for each node in the hidden layer as well as for each node in the output layer."
   ]
  },
  {
   "cell_type": "code",
   "execution_count": 2,
   "id": "3081c48f",
   "metadata": {},
   "outputs": [],
   "source": [
    "import numpy as np\n",
    "weights = np.around(np.random.uniform(size=6), decimals=2)\n",
    "biases = np.around(np.random.uniform(size=3), decimals=2)"
   ]
  },
  {
   "cell_type": "code",
   "execution_count": 4,
   "id": "983117f6",
   "metadata": {},
   "outputs": [
    {
     "name": "stdout",
     "output_type": "stream",
     "text": [
      "[0.78 0.98 0.14 0.54 0.45 0.66]\n",
      "[0.49 0.79 0.34]\n"
     ]
    }
   ],
   "source": [
    "print(weights)\n",
    "print(biases)"
   ]
  },
  {
   "cell_type": "markdown",
   "id": "9844427e",
   "metadata": {},
   "source": [
    "Now that we have the weights and the biases defined for the network, let's compute the output for a given input,  𝑥1  and  𝑥2 ."
   ]
  },
  {
   "cell_type": "code",
   "execution_count": 7,
   "id": "f31f25a5",
   "metadata": {},
   "outputs": [],
   "source": [
    "x_1 = 0.5  # input 1\n",
    "x_2 = 0.85 # input 2"
   ]
  },
  {
   "cell_type": "code",
   "execution_count": 9,
   "id": "364931df",
   "metadata": {},
   "outputs": [
    {
     "name": "stdout",
     "output_type": "stream",
     "text": [
      "x1 is 0.5 and x2 is 0.85\n"
     ]
    }
   ],
   "source": [
    "print('x1 is {} and x2 is {}'.format(x_1, x_2))"
   ]
  },
  {
   "cell_type": "markdown",
   "id": "91f29221",
   "metadata": {},
   "source": [
    "Let's start by computing the wighted sum of the inputs,  𝑧_1,1 , at the first node of the hidden layer."
   ]
  },
  {
   "cell_type": "code",
   "execution_count": 24,
   "id": "acea36b1",
   "metadata": {},
   "outputs": [
    {
     "name": "stdout",
     "output_type": "stream",
     "text": [
      "The weighted sum of the inputs at the first node in the hidden layer is 1.7130\n"
     ]
    }
   ],
   "source": [
    "z_11 = x_1 * weights[0] + x_2 * weights[1] + biases[0]\n",
    "print('The weighted sum of the inputs at the first node in the hidden layer is {:.4f}'.format(z_11))"
   ]
  },
  {
   "cell_type": "code",
   "execution_count": 25,
   "id": "8cf73d75",
   "metadata": {},
   "outputs": [
    {
     "name": "stdout",
     "output_type": "stream",
     "text": [
      "The weighted sum of the inputs at the second node in the hidden layer is 1.3190\n"
     ]
    }
   ],
   "source": [
    "z_12 = x_1 * weights[2] + x_2 * weights[3] + biases[1]\n",
    "print('The weighted sum of the inputs at the second node in the hidden layer is {:.4f}'.format(z_12))"
   ]
  },
  {
   "cell_type": "markdown",
   "id": "d1d10428",
   "metadata": {},
   "source": [
    "Next, assuming a sigmoid activation function, let's compute the activation of the first node,  𝑎_1,1 , in the hidden layer."
   ]
  },
  {
   "cell_type": "code",
   "execution_count": 21,
   "id": "e9fff7d1",
   "metadata": {},
   "outputs": [
    {
     "name": "stdout",
     "output_type": "stream",
     "text": [
      "The activation of the first node in the hidden layer is 0.8472\n"
     ]
    }
   ],
   "source": [
    "a_11 = 1 / (1 + np.exp(-z_11))\n",
    "print('The activation of the first node in the hidden layer is {}'.format(np.round(a_11, 4)))"
   ]
  },
  {
   "cell_type": "code",
   "execution_count": 22,
   "id": "d3256fc8",
   "metadata": {},
   "outputs": [
    {
     "name": "stdout",
     "output_type": "stream",
     "text": [
      "The activation of the first node in the hidden layer is 0.789\n"
     ]
    }
   ],
   "source": [
    "a_12 = 1 / (1 + np.exp(-z_12))\n",
    "print('The activation of the second node in the hidden layer is {}'.format(np.round(a_12, 4)))"
   ]
  },
  {
   "cell_type": "markdown",
   "id": "2a3ac2d2",
   "metadata": {},
   "source": [
    "Now these activations will serve as the inputs to the output layer. So, let's compute the weighted sum of these inputs to the node in the output layer."
   ]
  },
  {
   "cell_type": "code",
   "execution_count": 20,
   "id": "845fc8d9",
   "metadata": {},
   "outputs": [
    {
     "name": "stdout",
     "output_type": "stream",
     "text": [
      "The weighted sum of the inputs at the output layer is 1.242\n"
     ]
    }
   ],
   "source": [
    "z_2 = a_11 * weights[4] + a_12 * weights[5] + biases[2]\n",
    "print('The weighted sum of the inputs at the output layer is {}'.format(np.round(z_2, 4)))"
   ]
  },
  {
   "cell_type": "markdown",
   "id": "8f8df10b",
   "metadata": {},
   "source": [
    "Finally, let's compute the output of the network as the activation of the node in the output layer. Assign the value to a_2."
   ]
  },
  {
   "cell_type": "code",
   "execution_count": 26,
   "id": "557ac430",
   "metadata": {},
   "outputs": [
    {
     "name": "stdout",
     "output_type": "stream",
     "text": [
      "The output of the network is 0.7759\n"
     ]
    }
   ],
   "source": [
    "a_2 = 1 / (1 + np.exp(-z_2))\n",
    "print('The output of the network is {:.4f}'.format(a_2))"
   ]
  },
  {
   "cell_type": "code",
   "execution_count": null,
   "id": "eac7faaf",
   "metadata": {},
   "outputs": [],
   "source": []
  }
 ],
 "metadata": {
  "kernelspec": {
   "display_name": "Python 3",
   "language": "python",
   "name": "python3"
  },
  "language_info": {
   "codemirror_mode": {
    "name": "ipython",
    "version": 3
   },
   "file_extension": ".py",
   "mimetype": "text/x-python",
   "name": "python",
   "nbconvert_exporter": "python",
   "pygments_lexer": "ipython3",
   "version": "3.8.10"
  }
 },
 "nbformat": 4,
 "nbformat_minor": 5
}
