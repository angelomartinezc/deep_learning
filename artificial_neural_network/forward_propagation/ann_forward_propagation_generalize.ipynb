{
 "cells": [
  {
   "cell_type": "markdown",
   "id": "d61c677d",
   "metadata": {},
   "source": [
    "# Artificial Neural Network - Forward Propagation"
   ]
  },
  {
   "cell_type": "markdown",
   "id": "641902ca",
   "metadata": {},
   "source": [
    "Now, we are going to create functions in order to have more than one node in the output layer."
   ]
  },
  {
   "cell_type": "code",
   "execution_count": 1,
   "id": "1fc7d643",
   "metadata": {},
   "outputs": [],
   "source": [
    "import numpy as np"
   ]
  },
  {
   "cell_type": "markdown",
   "id": "fe7f7ec5",
   "metadata": {},
   "source": [
    "### Define the structure of the network"
   ]
  },
  {
   "cell_type": "code",
   "execution_count": 21,
   "id": "8a82b1c2",
   "metadata": {},
   "outputs": [],
   "source": [
    "# number of inputs\n",
    "n = 2\n",
    "# number of hidden layers\n",
    "num_hidden_layers = 2\n",
    "# number of nodes in each hidden layer\n",
    "m = [2, 2]\n",
    "# number of nodes on the output layer\n",
    "num_nodes_output = 1"
   ]
  },
  {
   "cell_type": "markdown",
   "id": "1a0bf44b",
   "metadata": {},
   "source": [
    "### Initialize the weights and biases"
   ]
  },
  {
   "cell_type": "code",
   "execution_count": 22,
   "id": "ffaa947a",
   "metadata": {},
   "outputs": [],
   "source": [
    "# number of nodes in the previous layer\n",
    "num_nodes_previous = n\n",
    "# initialize the network\n",
    "network = {}"
   ]
  },
  {
   "cell_type": "code",
   "execution_count": 23,
   "id": "1ec28c6a",
   "metadata": {},
   "outputs": [
    {
     "name": "stdout",
     "output_type": "stream",
     "text": [
      "{'layer_1': {'node_1': {'weights': array([0.78, 0.89]), 'bias': array([0.7])}, 'node_2': {'weights': array([0.65, 0.9 ]), 'bias': array([0.12])}}, 'layer_2': {'node_1': {'weights': array([0.32, 0.6 ]), 'bias': array([0.54])}, 'node_2': {'weights': array([0.38, 0.42]), 'bias': array([0.55])}}, 'output': {'node_1': {'weights': array([0.92, 0.07]), 'bias': array([0.15])}}}\n"
     ]
    }
   ],
   "source": [
    "for layer in range(num_hidden_layers + 1):\n",
    "    # create name of layers\n",
    "    if layer == num_hidden_layers:\n",
    "        layer_name = 'output'\n",
    "        num_nodes = num_nodes_output\n",
    "    else:\n",
    "        layer_name = 'layer_{}'.format(layer + 1)\n",
    "        num_nodes = m[layer]\n",
    "    \n",
    "    # initialize weights and biases associated with each node in the current layer\n",
    "    network[layer_name] = {}\n",
    "    \n",
    "    for node in range(num_nodes):\n",
    "        node_name = 'node_{}'.format(node + 1)\n",
    "        network[layer_name][node_name] = {\n",
    "            'weights' : np.around(np.random.uniform(size=num_nodes_previous), decimals=2),\n",
    "            'bias' : np.around(np.random.uniform(size=1), decimals=2) \n",
    "        }\n",
    "    \n",
    "    num_nodes_previous = num_nodes\n",
    "\n",
    "\n",
    "print(network)"
   ]
  },
  {
   "cell_type": "code",
   "execution_count": 13,
   "id": "e3ce1739",
   "metadata": {},
   "outputs": [
    {
     "data": {
      "text/plain": [
       "'node_1'"
      ]
     },
     "execution_count": 13,
     "metadata": {},
     "output_type": "execute_result"
    }
   ],
   "source": [
    "node_name"
   ]
  },
  {
   "cell_type": "code",
   "execution_count": null,
   "id": "7b2db2be",
   "metadata": {},
   "outputs": [],
   "source": []
  }
 ],
 "metadata": {
  "kernelspec": {
   "display_name": "Python 3",
   "language": "python",
   "name": "python3"
  },
  "language_info": {
   "codemirror_mode": {
    "name": "ipython",
    "version": 3
   },
   "file_extension": ".py",
   "mimetype": "text/x-python",
   "name": "python",
   "nbconvert_exporter": "python",
   "pygments_lexer": "ipython3",
   "version": "3.8.10"
  }
 },
 "nbformat": 4,
 "nbformat_minor": 5
}
